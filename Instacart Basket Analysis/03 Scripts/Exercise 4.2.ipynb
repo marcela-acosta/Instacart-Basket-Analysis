{
 "cells": [
  {
   "cell_type": "markdown",
   "id": "ff365b64",
   "metadata": {},
   "source": [
    "# 01. Importing libraries"
   ]
  },
  {
   "cell_type": "code",
   "execution_count": 2,
   "id": "990de998",
   "metadata": {},
   "outputs": [],
   "source": [
    "# Import libraries\n",
    "import pandas as pd\n",
    "import numpy as np\n",
    "import os"
   ]
  },
  {
   "cell_type": "markdown",
   "id": "d47eaeae",
   "metadata": {},
   "source": [
    "# 02. Data Types"
   ]
  },
  {
   "cell_type": "markdown",
   "id": "db54de7d",
   "metadata": {},
   "source": [
    "## Code 3 different ways of reaching a result of 100 by adding or subtracting numeric variables"
   ]
  },
  {
   "cell_type": "code",
   "execution_count": 4,
   "id": "2f5bcf2f",
   "metadata": {},
   "outputs": [],
   "source": [
    "a = 50"
   ]
  },
  {
   "cell_type": "code",
   "execution_count": 5,
   "id": "56368856",
   "metadata": {},
   "outputs": [],
   "source": [
    "b = 25"
   ]
  },
  {
   "cell_type": "code",
   "execution_count": 6,
   "id": "1d428f9b",
   "metadata": {},
   "outputs": [],
   "source": [
    "x = a * 2"
   ]
  },
  {
   "cell_type": "code",
   "execution_count": 7,
   "id": "3cdd8aa2",
   "metadata": {},
   "outputs": [
    {
     "data": {
      "text/plain": [
       "100"
      ]
     },
     "execution_count": 7,
     "metadata": {},
     "output_type": "execute_result"
    }
   ],
   "source": [
    "x"
   ]
  },
  {
   "cell_type": "code",
   "execution_count": 8,
   "id": "779e6520",
   "metadata": {},
   "outputs": [],
   "source": [
    "x = a + (b * 2)"
   ]
  },
  {
   "cell_type": "code",
   "execution_count": 9,
   "id": "224f365e",
   "metadata": {},
   "outputs": [
    {
     "data": {
      "text/plain": [
       "100"
      ]
     },
     "execution_count": 9,
     "metadata": {},
     "output_type": "execute_result"
    }
   ],
   "source": [
    "x"
   ]
  },
  {
   "cell_type": "code",
   "execution_count": 10,
   "id": "2c43eabf",
   "metadata": {},
   "outputs": [],
   "source": [
    "x = b * 4"
   ]
  },
  {
   "cell_type": "code",
   "execution_count": 11,
   "id": "a6ac4c0d",
   "metadata": {},
   "outputs": [
    {
     "data": {
      "text/plain": [
       "100"
      ]
     },
     "execution_count": 11,
     "metadata": {},
     "output_type": "execute_result"
    }
   ],
   "source": [
    "x"
   ]
  },
  {
   "cell_type": "markdown",
   "id": "f1beca47",
   "metadata": {},
   "source": [
    "## Code 2 floating-point variables and divide them by each other"
   ]
  },
  {
   "cell_type": "code",
   "execution_count": 14,
   "id": "e24be763",
   "metadata": {},
   "outputs": [],
   "source": [
    "c = 2.567"
   ]
  },
  {
   "cell_type": "code",
   "execution_count": 15,
   "id": "fc63810f",
   "metadata": {},
   "outputs": [],
   "source": [
    "d = 8.234"
   ]
  },
  {
   "cell_type": "code",
   "execution_count": 16,
   "id": "4032b50c",
   "metadata": {},
   "outputs": [],
   "source": [
    "x = c / d"
   ]
  },
  {
   "cell_type": "code",
   "execution_count": 17,
   "id": "2e8994f1",
   "metadata": {},
   "outputs": [
    {
     "data": {
      "text/plain": [
       "0.3117561331066311"
      ]
     },
     "execution_count": 17,
     "metadata": {},
     "output_type": "execute_result"
    }
   ],
   "source": [
    "x"
   ]
  },
  {
   "cell_type": "markdown",
   "id": "fe36c8f1",
   "metadata": {},
   "source": [
    "## Construct a short word made of separate strings"
   ]
  },
  {
   "cell_type": "code",
   "execution_count": 18,
   "id": "8fbe05f3",
   "metadata": {},
   "outputs": [],
   "source": [
    "e = 'Jap'"
   ]
  },
  {
   "cell_type": "code",
   "execution_count": 19,
   "id": "9a35a4b5",
   "metadata": {},
   "outputs": [],
   "source": [
    "f = 'an'"
   ]
  },
  {
   "cell_type": "code",
   "execution_count": 20,
   "id": "13666361",
   "metadata": {},
   "outputs": [],
   "source": [
    "x = e + f"
   ]
  },
  {
   "cell_type": "code",
   "execution_count": 21,
   "id": "f1f2ad93",
   "metadata": {},
   "outputs": [
    {
     "data": {
      "text/plain": [
       "'Japan'"
      ]
     },
     "execution_count": 21,
     "metadata": {},
     "output_type": "execute_result"
    }
   ],
   "source": [
    "x"
   ]
  },
  {
   "cell_type": "markdown",
   "id": "e3c4b9f1",
   "metadata": {},
   "source": [
    "## Construct 2 short sentences made of separate strings"
   ]
  },
  {
   "cell_type": "code",
   "execution_count": 22,
   "id": "eb01b797",
   "metadata": {},
   "outputs": [],
   "source": [
    "g = 'I live '"
   ]
  },
  {
   "cell_type": "code",
   "execution_count": 23,
   "id": "1457036f",
   "metadata": {},
   "outputs": [],
   "source": [
    "h = 'in Japan'"
   ]
  },
  {
   "cell_type": "code",
   "execution_count": 24,
   "id": "124c624e",
   "metadata": {},
   "outputs": [],
   "source": [
    "x = g + h"
   ]
  },
  {
   "cell_type": "code",
   "execution_count": 25,
   "id": "ddb85adc",
   "metadata": {},
   "outputs": [
    {
     "data": {
      "text/plain": [
       "'I live in Japan'"
      ]
     },
     "execution_count": 25,
     "metadata": {},
     "output_type": "execute_result"
    }
   ],
   "source": [
    "x"
   ]
  },
  {
   "cell_type": "code",
   "execution_count": 26,
   "id": "4c4a23e3",
   "metadata": {},
   "outputs": [],
   "source": [
    "i = 'He lives '"
   ]
  },
  {
   "cell_type": "code",
   "execution_count": 27,
   "id": "ad406168",
   "metadata": {},
   "outputs": [],
   "source": [
    "j = 'in Brazil'"
   ]
  },
  {
   "cell_type": "code",
   "execution_count": 28,
   "id": "87a903f2",
   "metadata": {},
   "outputs": [],
   "source": [
    "x = i + j"
   ]
  },
  {
   "cell_type": "code",
   "execution_count": 29,
   "id": "b0b1d81b",
   "metadata": {},
   "outputs": [
    {
     "data": {
      "text/plain": [
       "'He lives in Brazil'"
      ]
     },
     "execution_count": 29,
     "metadata": {},
     "output_type": "execute_result"
    }
   ],
   "source": [
    "x"
   ]
  },
  {
   "cell_type": "markdown",
   "id": "242d074d",
   "metadata": {},
   "source": [
    "## Bonus Task: Include a command that makes a string appear 100 times"
   ]
  },
  {
   "cell_type": "code",
   "execution_count": 33,
   "id": "f83edcab",
   "metadata": {},
   "outputs": [
    {
     "data": {
      "text/plain": [
       "'I live in Japan I live in Japan I live in Japan I live in Japan I live in Japan I live in Japan I live in Japan I live in Japan I live in Japan I live in Japan I live in Japan I live in Japan I live in Japan I live in Japan I live in Japan I live in Japan I live in Japan I live in Japan I live in Japan I live in Japan I live in Japan I live in Japan I live in Japan I live in Japan I live in Japan I live in Japan I live in Japan I live in Japan I live in Japan I live in Japan I live in Japan I live in Japan I live in Japan I live in Japan I live in Japan I live in Japan I live in Japan I live in Japan I live in Japan I live in Japan I live in Japan I live in Japan I live in Japan I live in Japan I live in Japan I live in Japan I live in Japan I live in Japan I live in Japan I live in Japan I live in Japan I live in Japan I live in Japan I live in Japan I live in Japan I live in Japan I live in Japan I live in Japan I live in Japan I live in Japan I live in Japan I live in Japan I live in Japan I live in Japan I live in Japan I live in Japan I live in Japan I live in Japan I live in Japan I live in Japan I live in Japan I live in Japan I live in Japan I live in Japan I live in Japan I live in Japan I live in Japan I live in Japan I live in Japan I live in Japan I live in Japan I live in Japan I live in Japan I live in Japan I live in Japan I live in Japan I live in Japan I live in Japan I live in Japan I live in Japan I live in Japan I live in Japan I live in Japan I live in Japan I live in Japan I live in Japan I live in Japan I live in Japan I live in Japan I live in Japan '"
      ]
     },
     "execution_count": 33,
     "metadata": {},
     "output_type": "execute_result"
    }
   ],
   "source": [
    "(g + h + ' ') * 100"
   ]
  }
 ],
 "metadata": {
  "kernelspec": {
   "display_name": "Python 3 (ipykernel)",
   "language": "python",
   "name": "python3"
  },
  "language_info": {
   "codemirror_mode": {
    "name": "ipython",
    "version": 3
   },
   "file_extension": ".py",
   "mimetype": "text/x-python",
   "name": "python",
   "nbconvert_exporter": "python",
   "pygments_lexer": "ipython3",
   "version": "3.10.9"
  }
 },
 "nbformat": 4,
 "nbformat_minor": 5
}
